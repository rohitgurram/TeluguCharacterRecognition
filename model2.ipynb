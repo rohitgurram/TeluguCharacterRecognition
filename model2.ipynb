{
 "cells": [
  {
   "cell_type": "code",
   "execution_count": 1,
   "metadata": {},
   "outputs": [],
   "source": [
    "import os\n",
    "import numpy as np\n",
    "from tensorflow.keras.models import Sequential\n",
    "from tensorflow.keras.layers import Conv2D, MaxPooling2D, Flatten, Dense\n",
    "from tensorflow.keras.utils import to_categorical\n",
    "from sklearn.model_selection import train_test_split\n",
    "from PIL import Image"
   ]
  },
  {
   "cell_type": "code",
   "execution_count": 2,
   "metadata": {},
   "outputs": [],
   "source": [
    "def load_data(data_dir):\n",
    "    images = []\n",
    "    labels = []\n",
    "    for label, folder in enumerate(os.listdir(data_dir)):\n",
    "        for image_name in os.listdir(os.path.join(data_dir, folder)):\n",
    "            image_path = os.path.join(data_dir, folder, image_name)\n",
    "            image = Image.open(image_path).convert('L')  # Convert to grayscale\n",
    "            image = image.resize((50, 50))  # Resize image to 50x50 pixels\n",
    "            image = np.array(image) / 255.0  # Normalize pixel values\n",
    "            image = np.expand_dims(image, axis=-1)  # Add channel dimension\n",
    "            images.append(image)\n",
    "            labels.append(label)\n",
    "    return np.array(images), np.array(labels)"
   ]
  },
  {
   "cell_type": "code",
   "execution_count": 3,
   "metadata": {},
   "outputs": [],
   "source": [
    "data_dir = 'Dataset'  # Path to your dataset folder\n",
    "images, labels = load_data(data_dir)"
   ]
  },
  {
   "cell_type": "code",
   "execution_count": 4,
   "metadata": {},
   "outputs": [],
   "source": [
    "X_train, X_test, y_train, y_test = train_test_split(images, labels, test_size=0.2, random_state=42)"
   ]
  },
  {
   "cell_type": "code",
   "execution_count": 6,
   "metadata": {},
   "outputs": [],
   "source": [
    "num_classes = len(np.unique(labels))\n",
    "y_train = to_categorical(y_train, num_classes)\n",
    "y_test = to_categorical(y_test, num_classes)"
   ]
  },
  {
   "cell_type": "code",
   "execution_count": 7,
   "metadata": {},
   "outputs": [
    {
     "name": "stderr",
     "output_type": "stream",
     "text": [
      "c:\\Users\\D.K.V.REDDY\\anaconda3\\Lib\\site-packages\\keras\\src\\layers\\convolutional\\base_conv.py:99: UserWarning: Do not pass an `input_shape`/`input_dim` argument to a layer. When using Sequential models, prefer using an `Input(shape)` object as the first layer in the model instead.\n",
      "  super().__init__(\n"
     ]
    }
   ],
   "source": [
    "model = Sequential([\n",
    "    Conv2D(32, (3, 3), activation='relu', input_shape=(50, 50, 1)),\n",
    "    MaxPooling2D((2, 2)),\n",
    "    Conv2D(64, (3, 3), activation='relu'),\n",
    "    MaxPooling2D((2, 2)),\n",
    "    Conv2D(128, (3, 3), activation='relu'),\n",
    "    MaxPooling2D((2, 2)),\n",
    "    Flatten(),\n",
    "    Dense(128, activation='relu'),\n",
    "    Dense(num_classes, activation='softmax')\n",
    "])"
   ]
  },
  {
   "cell_type": "code",
   "execution_count": 8,
   "metadata": {},
   "outputs": [],
   "source": [
    "model.compile(optimizer='adam', loss='categorical_crossentropy', metrics=['accuracy'])"
   ]
  },
  {
   "cell_type": "code",
   "execution_count": 44,
   "metadata": {},
   "outputs": [
    {
     "name": "stdout",
     "output_type": "stream",
     "text": [
      "Epoch 1/30\n"
     ]
    },
    {
     "ename": "ValueError",
     "evalue": "Unknown variable: <KerasVariable shape=(3, 3, 1, 32), dtype=float32, path=sequential/conv2d/kernel>. This optimizer can only be called for the variables it was originally built with. When working with a new set of variables, you should recreate a new optimizer instance.",
     "output_type": "error",
     "traceback": [
      "\u001b[1;31m---------------------------------------------------------------------------\u001b[0m",
      "\u001b[1;31mValueError\u001b[0m                                Traceback (most recent call last)",
      "Cell \u001b[1;32mIn[44], line 1\u001b[0m\n\u001b[1;32m----> 1\u001b[0m model\u001b[38;5;241m.\u001b[39mfit(X_train, y_train, epochs\u001b[38;5;241m=\u001b[39m\u001b[38;5;241m30\u001b[39m, batch_size\u001b[38;5;241m=\u001b[39m\u001b[38;5;241m32\u001b[39m, validation_data\u001b[38;5;241m=\u001b[39m(X_test, y_test))\n",
      "File \u001b[1;32mc:\\Users\\D.K.V.REDDY\\anaconda3\\Lib\\site-packages\\keras\\src\\utils\\traceback_utils.py:123\u001b[0m, in \u001b[0;36mfilter_traceback.<locals>.error_handler\u001b[1;34m(*args, **kwargs)\u001b[0m\n\u001b[0;32m    120\u001b[0m     filtered_tb \u001b[38;5;241m=\u001b[39m _process_traceback_frames(e\u001b[38;5;241m.\u001b[39m__traceback__)\n\u001b[0;32m    121\u001b[0m     \u001b[38;5;66;03m# To get the full stack trace, call:\u001b[39;00m\n\u001b[0;32m    122\u001b[0m     \u001b[38;5;66;03m# `keras.config.disable_traceback_filtering()`\u001b[39;00m\n\u001b[1;32m--> 123\u001b[0m     \u001b[38;5;28;01mraise\u001b[39;00m e\u001b[38;5;241m.\u001b[39mwith_traceback(filtered_tb) \u001b[38;5;28;01mfrom\u001b[39;00m \u001b[38;5;28;01mNone\u001b[39;00m\n\u001b[0;32m    124\u001b[0m \u001b[38;5;28;01mfinally\u001b[39;00m:\n\u001b[0;32m    125\u001b[0m     \u001b[38;5;28;01mdel\u001b[39;00m filtered_tb\n",
      "File \u001b[1;32mc:\\Users\\D.K.V.REDDY\\anaconda3\\Lib\\site-packages\\keras\\src\\optimizers\\base_optimizer.py:215\u001b[0m, in \u001b[0;36mBaseOptimizer._check_variables_are_known\u001b[1;34m(self, variables)\u001b[0m\n\u001b[0;32m    213\u001b[0m \u001b[38;5;28;01mfor\u001b[39;00m v \u001b[38;5;129;01min\u001b[39;00m variables:\n\u001b[0;32m    214\u001b[0m     \u001b[38;5;28;01mif\u001b[39;00m \u001b[38;5;28mself\u001b[39m\u001b[38;5;241m.\u001b[39m_var_key(v) \u001b[38;5;129;01mnot\u001b[39;00m \u001b[38;5;129;01min\u001b[39;00m \u001b[38;5;28mself\u001b[39m\u001b[38;5;241m.\u001b[39m_trainable_variables_indices:\n\u001b[1;32m--> 215\u001b[0m         \u001b[38;5;28;01mraise\u001b[39;00m \u001b[38;5;167;01mValueError\u001b[39;00m(\n\u001b[0;32m    216\u001b[0m             \u001b[38;5;124mf\u001b[39m\u001b[38;5;124m\"\u001b[39m\u001b[38;5;124mUnknown variable: \u001b[39m\u001b[38;5;132;01m{\u001b[39;00mv\u001b[38;5;132;01m}\u001b[39;00m\u001b[38;5;124m. This optimizer can only \u001b[39m\u001b[38;5;124m\"\u001b[39m\n\u001b[0;32m    217\u001b[0m             \u001b[38;5;124m\"\u001b[39m\u001b[38;5;124mbe called for the variables it was originally built with. \u001b[39m\u001b[38;5;124m\"\u001b[39m\n\u001b[0;32m    218\u001b[0m             \u001b[38;5;124m\"\u001b[39m\u001b[38;5;124mWhen working with a new set of variables, you should \u001b[39m\u001b[38;5;124m\"\u001b[39m\n\u001b[0;32m    219\u001b[0m             \u001b[38;5;124m\"\u001b[39m\u001b[38;5;124mrecreate a new optimizer instance.\u001b[39m\u001b[38;5;124m\"\u001b[39m\n\u001b[0;32m    220\u001b[0m         )\n",
      "\u001b[1;31mValueError\u001b[0m: Unknown variable: <KerasVariable shape=(3, 3, 1, 32), dtype=float32, path=sequential/conv2d/kernel>. This optimizer can only be called for the variables it was originally built with. When working with a new set of variables, you should recreate a new optimizer instance."
     ]
    }
   ],
   "source": [
    "model.fit(X_train, y_train, epochs=30, batch_size=32, validation_data=(X_test, y_test))"
   ]
  },
  {
   "cell_type": "code",
   "execution_count": 10,
   "metadata": {},
   "outputs": [
    {
     "name": "stdout",
     "output_type": "stream",
     "text": [
      "\u001b[1m183/183\u001b[0m \u001b[32m━━━━━━━━━━━━━━━━━━━━\u001b[0m\u001b[37m\u001b[0m \u001b[1m2s\u001b[0m 9ms/step - accuracy: 0.6405 - loss: 1.2857\n",
      "Test Accuracy: 0.633213222026825\n"
     ]
    }
   ],
   "source": [
    "loss, accuracy = model.evaluate(X_test, y_test)\n",
    "print(\"Test Accuracy:\", accuracy)"
   ]
  },
  {
   "cell_type": "code",
   "execution_count": 11,
   "metadata": {},
   "outputs": [
    {
     "name": "stderr",
     "output_type": "stream",
     "text": [
      "WARNING:absl:You are saving your model as an HDF5 file via `model.save()` or `keras.saving.save_model(model)`. This file format is considered legacy. We recommend using instead the native Keras format, e.g. `model.save('my_model.keras')` or `keras.saving.save_model(model, 'my_model.keras')`. \n"
     ]
    }
   ],
   "source": [
    "model.save('handwritten_character_model.h5')"
   ]
  },
  {
   "cell_type": "code",
   "execution_count": 12,
   "metadata": {},
   "outputs": [
    {
     "name": "stderr",
     "output_type": "stream",
     "text": [
      "WARNING:absl:Compiled the loaded model, but the compiled metrics have yet to be built. `model.compile_metrics` will be empty until you train or evaluate the model.\n"
     ]
    },
    {
     "name": "stdout",
     "output_type": "stream",
     "text": [
      "\u001b[1m183/183\u001b[0m \u001b[32m━━━━━━━━━━━━━━━━━━━━\u001b[0m\u001b[37m\u001b[0m \u001b[1m2s\u001b[0m 11ms/step\n",
      "['y', 'ka', 'h', 'ee', 'h', 'ks', 'ee', 'am', 'ru', 'kha', 'll', 'ai', 'ee', 'm', 'r', 'aa', 'gh', 'ah', 'jha', 'uu', 'ee', 'n', 'i', 'i', 'da', 'ruu', 'uu', 'tha', 'rr', 'bh', 'ch', 'ee', 'jha', 'l', 'ru', 'da', 'i', 'ta', 'ii', 'dh', 'ch', 'ru', 'ks', 'jh', 'ai', 'u', 'aa', 'th', 'h', 'ee', 's', 'jha', 'dha', 'ai', 'aa', 'th', 'u', 'll', 'kha', 'jha', 'm', 'jh', 'l', 'ai', 'bh', 'uu', 'ka', 'ruu', 'aa', 'll', 'thah', 'gh', 'jha', 'tha', 'bh', 'ee', 'kha', 'n', 'll', 'd', 'kha', 'll', 'ta', 'o', 'sh', 'ka', 'bh', 'ch', 'e', 'i', 'h', 'tha', 'ee', 'n', 'g', 'ana', 'ee', 'rr', 'i', 'am', 'ee', 'ks', 'v', 'Ph', 'll', 'd', 'tha', 'v', 'gh', 'kha', 'dha', 'g', 'ao', 'ta', 'ah', 'l', 'm', 'l', 'bh', 'jha', 'll', 'ruu', 'y', 'Ph', 's', 'n', 'aa', 'bh', 'oo', 'i', 'ta', 'v', 'ah', 'th', 'kha', 'tha', 'ka', 'ana', 'ee', 'thah', 'oo', 'e', 'aa', 'bh', 'ai', 'ana', 'd', 'ch', 'aa', 'g', 'd', 'll', 'cha', 'th', 'l', 'ah', 'bh', 'Ph', 'ta', 'dha', 'e', 'ee', 'i', 'ana', 'ru', 'ks', 'gh', 'rr', 's', 'n', 'ta', 'ka', 'uu', 'oo', 'thah', 'e', 'am', 'ii', 'P', 'm', 'r', 'jh', 'ana', 'cha', 'P', 'dh', 'e', 'bh', 'dh', 'ta', 'y', 'jha', 'm', 'm', 'dha', 'jha', 'th', 'ks', 'h', 'ana', 'ruu', 'thah', 'ee', 'ru', 'ru', 'bh', 'ta', 'b', 'e', 'aa', 'n', 'gh', 'Ph', 's', 'aa', 'sa', 'bh', 'ah', 'gh', 'sa', 'thah', 'i', 'll', 'jh', 'ru', 'ai', 'y', 'e', 'u', 'n', 'sh', 'da', 'P', 'ai', 'jha', 'ai', 'P', 'g', 'n', 'd', 'ah', 'll', 'n', 'a', 'aa', 'ee', 'oo', 'dha', 'aa', 'cha', 'r', 'gh', 'bh', 'ruu', 'o', 'sa', 'ch', 'dh', 'dh', 'ee', 'kha', 'l', 'uu', 'i', 'jha', 'l', 'ai', 'thah', 'da', 'ks', 'oo', 'ks', 'bh', 'ta', 'oo', 'ruu', 'aa', 'jh', 'ruu', 'ruu', 'r', 'th', 'thah', 'm', 'ee', 'u', 'e', 'ah', 'ii', 'ai', 'tha', 'th', 'jh', 'n', 'rr', 'dh', 'dh', 'ks', 'jh', 'y', 'rr', 'kha', 'sa', 'll', 'dh', 'ks', 'tha', 'jh', 'da', 'tha', 'aa', 'am', 'bh', 'uu', 'v', 'dh', 'r', 'bh', 'h', 'll', 'ta', 'll', 'ruu', 'v', 'thah', 'ah', 'dh', 'll', 'h', 'da', 'bh', 'th', 'da', 'gh', 'sa', 'Ph', 'v', 'ii', 'cha', 'bh', 'rr', 'ks', 'ruu', 'gh', 'aa', 'bh', 'rr', 'sa', 'jha', 'v', 'ruu', 'P', 'oo', 'dh', 'rr', 'dh', 'ah', 'ta', 'e', 'n', 'ah', 'bh', 'g', 'jh', 'y', 'h', 'uu', 'o', 'dha', 'uu', 'ks', 'h', 'aa', 'ru', 'rr', 'y', 'ii', 'i', 'a', 'ee', 'ee', 'Ph', 'thah', 'uu', 'ruu', 'a', 'a', 'ch', 'aa', 'v', 'i', 'ta', 'ee', 'ii', 'th', 'v', 'g', 'thah', 'd', 'ch', 'oo', 'v', 'jh', 'e', 'd', 'ao', 'th', 'oo', 'rr', 'u', 's', 'Ph', 'o', 'ks', 'tha', 's', 'thah', 'g', 'aa', 'sh', 'P', 'aa', 'ta', 'tha', 'y', 'am', 'ee', 'ii', 'aa', 'ch', 'll', 'ks', 'gh', 'ee', 'e', 'ruu', 'th', 'ruu', 'sa', 'am', 'jha', 'ee', 'u', 'm', 'aa', 'n', 'aa', 'u', 'ana', 'ruu', 'l', 'll', 'oo', 'ah', 'ee', 'gh', 'kha', 'dha', 'v', 'ao', 'kha', 'ta', 'th', 'jh', 'h', 'ruu', 'ana', 'Ph', 'bh', 'r', 'ee', 'n', 'ah', 'thah', 'am', 'uu', 'da', 'th', 'P', 'r', 'e', 'dha', 'ao', 'aa', 'u', 'aa', 'oo', 'r', 'bh', 'bh', 'd', 'tha', 'i', 'uu', 'bh', 'da', 'dh', 'da', 'i', 'th', 'n', 'i', 'dh', 'jna', 'o', 'da', 's', 'ee', 'th', 'i', 'da', 'ks', 'ks', 'bh', 'ks', 'u', 'rr', 'ah', 'g', 'ah', 'a', 'thah', 'ah', 'y', 'rr', 'dh', 'd', 'bh', 'ii', 'rr', 's', 'u', 'ks', 'sa', 'gh', 'u', 'ruu', 'jha', 'am', 'h', 'sa', 'm', 'll', 'aa', 'gh', 'uu', 'dh', 'am', 'uu', 'ru', 'uu', 'v', 'ii', 'uu', 'ee', 'bh', 's', 'ee', 'kha', 'Ph', 'kha', 'aa', 'ruu', 'tha', 's', 'n', 'gh', 'jha', 'y', 'r', 'ruu', 'dh', 'r', 'th', 'gh', 'th', 'ka', 'u', 'thah', 'h', 'bh', 'll', 'd', 'h', 'ks', 'rr', 'm', 'sh', 'ta', 's', 'jh', 'kha', 'jha', 'aa', 'da', 'l', 'ru', 'thah', 'ee', 'ta', 'aa', 'oo', 'cha', 'ru', 'uu', 'ka', 'ta', 'jha', 'dha', 'jha', 'e', 'da', 'r', 'ee', 'da', 'ai', 'ai', 'da', 'dh', 'uu', 'e', 'uu', 'll', 'd', 'ai', 'aa', 's', 'v', 's', 'o', 'ruu', 'r', 'uu', 'bh', 'v', 'ai', 'e', 'ai', 'uu', 'y', 'r', 'h', 'ee', 'bh', 'h', 'ks', 'l', 'll', 'v', 'v', 'll', 'l', 'a', 'thah', 'ka', 'i', 'uu', 'rr', 'dha', 'l', 'ao', 'e', 'ee', 'Ph', 'ee', 'am', 'ee', 'gh', 'dh', 'l', 'v', 'ta', 'dha', 'ks', 'thah', 'jh', 'b', 'd', 'thah', 'll', 'm', 'oo', 'uu', 'tha', 'uu', 'sh', 'gh', 'e', 'th', 'l', 'ana', 'e', 'dh', 'aa', 'cha', 'tha', 'dh', 'ah', 'cha', 'dha', 'Ph', 'jh', 'i', 'uu', 'u', 'd', 'll', 'a', 'u', 'dha', 'jh', 'oo', 'a', 'r', 'ks', 'v', 'm', 'bh', 'm', 'ii', 'dh', 'o', 'll', 'dh', 'bh', 'r', 'ai', 'gh', 'bh', 'tha', 'r', 'b', 'b', 'ks', 'ch', 'ruu', 'aa', 'ana', 'ch', 'cha', 'am', 'ana', 'r', 'n', 'm', 'ks', 'sh', 'uu', 'thah', 'dha', 'uu', 'da', 'ruu', 'dha', 'aa', 'll', 'Ph', 'u', 'oo', 'ch', 'uu', 'ao', 'm', 'bh', 'ta', 'P', 'Ph', 'dha', 'ta', 'th', 'b', 'gh', 'tha', 'ks', 'r', 'jh', 'dh', 'd', 'rr', 'u', 'ta', 'v', 'i', 'ch', 'ch', 'g', 'rr', 'aa', 'r', 'v', 'sa', 'll', 'd', 'ks', 'ks', 'ai', 'll', 'v', 'gh', 'da', 'g', 'ch', 'uu', 'ao', 'sa', 'y', 'e', 'ta', 'h', 'sh', 'bh', 'gh', 'kha', 'bh', 'th', 'gh', 'e', 'v', 's', 'rr', 'ruu', 'thah', 'l', 'uu', 'ch', 'o', 'h', 'ana', 'h', 'jha', 'ka', 'v', 'kha', 'sh', 'll', 'l', 'ee', 'ka', 'ee', 'P', 'v', 'sh', 'ta', 'ch', 'th', 'ii', 'ee', 'bh', 'll', 'i', 'ks', 'dha', 'Ph', 'ah', 'ruu', 'll', 'l', 'd', 'r', 'sa', 'oo', 'aa', 'ai', 'da', 'jna', 'aa', 'aa', 'h', 'i', 'gh', 'dh', 'cha', 'ai', 'Ph', 'uu', 'v', 'n', 'tha', 'bh', 'y', 'ii', 'ka', 'ka', 'r', 'ruu', 'uu', 'r', 'ch', 'ana', 'jha', 'i', 'oo', 'aa', 'oo', 'ao', 'ch', 'ruu', 'r', 'ee', 'Ph', 'e', 'th', 'gh', 'y', 'ii', 'e', 'ta', 'h', 'ee', 'ana', 'ka', 'a', 'uu', 'jha', 'i', 'am', 'd', 'ee', 'da', 'oo', 'cha', 'm', 'ai', 'y', 'o', 'uu', 'l', 'th', 'Ph', 'i', 'sa', 'a', 'ta', 'ee', 'bh', 'Ph', 'ao', 'dh', 'm', 'aa', 'ta', 'aa', 'tha', 'aa', 'bh', 'ao', 'v', 'e', 'kha', 'gh', 'ii', 'r', 'bh', 'ruu', 'rr', 'thah', 'r', 'Ph', 'da', 'll', 'ai', 'y', 'ch', 'v', 'uu', 'jh', 'n', 'uu', 'll', 'da', 'dh', 'll', 'ks', 'aa', 'ru', 'gh', 'oo', 'n', 'aa', 'ana', 'jha', 'a', 'ah', 'aa', 'da', 'dha', 'tha', 'n', 'o', 'uu', 'Ph', 'm', 'sa', 'dha', 's', 'v', 'a', 'th', 'ru', 'h', 'Ph', 'r', 'll', 'aa', 'ai', 'ah', 'v', 'ai', 'dha', 'aa', 'oo', 'jh', 'thah', 'aa', 'l', 'dha', 'da', 'ta', 'P', 'ah', 'l', 'aa', 'am', 'jh', 'r', 'e', 'ee', 'sh', 'ao', 'thah', 's', 'aa', 'ana', 'ka', 'dh', 'da', 'ks', 'ao', 'dha', 'jh', 'P', 'ah', 'uu', 'uu', 'ta', 'aa', 'th', 'e', 'da', 'th', 'tha', 'jha', 'rr', 'tha', 's', 'u', 'jh', 'ee', 'dh', 'ta', 'ks', 'ta', 'e', 'th', 'h', 'l', 'Ph', 'd', 'P', 'ka', 'kha', 'n', 'jna', 'm', 'jh', 'uu', 'u', 'ao', 'oo', 'y', 'll', 'ks', 'ii', 'ks', 'r', 'bh', 'ao', 'aa', 'll', 'Ph', 'e', 'uu', 'll', 'uu', 'i', 'am', 'ruu', 'll', 'oo', 'n', 'ru', 'ii', 'jna', 'ru', 'sh', 'll', 'jha', 'ruu', 'uu', 'll', 'dh', 'm', 'jha', 'i', 'e', 'e', 'jh', 'n', 'thah', 'aa', 'ah', 'ee', 'bh', 'ao', 'ta', 'u', 'v', 'uu', 'da', 'gh', 'h', 'da', 'r', 'y', 'e', 'thah', 'i', 'aa', 'thah', 'ks', 'Ph', 'ks', 'ai', 'ah', 'sa', 'ee', 'aa', 's', 'y', 'ai', 'jh', 'g', 'bh', 'aa', 'oo', 'kha', 'bh', 'ks', 'b', 'l', 'r', 'th', 'ao', 'ana', 'uu', 'ta', 'cha', 'th', 'ruu', 's', 'o', 'gh', 'i', 'tha', 'h', 'v', 'P', 'll', 'g', 'ana', 'ru', 'sa', 'gh', 'ks', 'uu', 'aa', 'uu', 'u', 'th', 'd', 'ai', 'ks', 'd', 'Ph', 'dh', 'll', 'a', 'P', 'v', 'uu', 'jh', 'thah', 'ruu', 'ai', 'oo', 'ee', 'h', 'll', 'da', 'ana', 'ao', 'ai', 'cha', 'g', 'aa', 'h', 'kha', 'ee', 'ee', 'b', 'ta', 'g', 'i', 'ruu', 'o', 'bh', 'i', 's', 'ks', 'sa', 'ai', 'aa', 'ana', 'ruu', 'uu', 'v', 'oo', 'dh', 'thah', 'aa', 'ee', 'kha', 'll', 'tha', 'thah', 'uu', 'ee', 'r', 'll', 'n', 'ee', 's', 'da', 'ah', 'g', 'ana', 'aa', 'u', 'jh', 'ah', 'oo', 'd', 'ii', 'ka', 'ao', 'gh', 'ai', 'am', 'rr', 'e', 'ii', 'thah', 'kha', 'm', 'ka', 'am', 'ah', 'bh', 'uu', 'll', 'g', 'a', 'P', 'oo', 'uu', 'ana', 'sa', 'P', 'u', 'l', 'bh', 'kha', 'rr', 'e', 'ruu', 'jh', 'a', 'bh', 'ru', 's', 'thah', 'sa', 'ee', 'th', 'sh', 'm', 'ii', 'th', 'thah', 'ah', 'e', 'd', 'uu', 'o', 'v', 'th', 'P', 'tha', 'sa', 'r', 'thah', 'd', 'i', 'thah', 'ee', 'd', 'd', 'rr', 'u', 'P', 'u', 'ah', 'ii', 'sa', 'ru', 'jha', 'll', 'l', 'thah', 'ruu', 'dha', 'd', 'ah', 'cha', 'ta', 'ah', 'ch', 'Ph', 'da', 'ta', 'thah', 'ai', 'v', 'bh', 'tha', 'rr', 'o', 'uu', 'e', 'e', 'll', 'e', 'l', 'aa', 'tha', 'tha', 'e', 'aa', 'uu', 'da', 'gh', 'h', 'oo', 'o', 'cha', 'jh', 'kha', 'ee', 'sa', 'rr', 'g', 'dha', 'aa', 'oo', 'i', 'kha', 'y', 'v', 'sh', 'b', 's', 'l', 'uu', 'e', 'ka', 'cha', 'ru', 'jha', 'i', 'dh', 'n', 'cha', 'i', 'ruu', 'll', 'bh', 'ana', 'P', 'ka', 'll', 'y', 'll', 'ka', 'y', 'P', 'bh', 'sa', 's', 'Ph', 'h', 'bh', 'P', 'thah', 'o', 'ru', 'm', 'ana', 'ch', 'jh', 'dh', 'thah', 'v', 'Ph', 'i', 'aa', 'ee', 'r', 'sa', 'ruu', 'dh', 'Ph', 'i', 'll', 'oo', 'ana', 'Ph', 'thah', 'uu', 'gh', 'ii', 'll', 'Ph', 'y', 'v', 'ii', 'th', 'gh', 'jha', 'ruu', 'g', 'rr', 'ai', 'bh', 'thah', 'ana', 'l', 'dha', 'jha', 'ee', 'ruu', 'oo', 'y', 'jh', 'ee', 'dha', 'aa', 'am', 'ee', 'bh', 'ee', 'ruu', 'ee', 'bh', 'u', 'tha', 'u', 'v', 'aa', 'ai', 'ta', 'a', 'ks', 'ru', 'Ph', 'da', 'uu', 'ruu', 'o', 'oo', 'e', 'ao', 'a', 'e', 'a', 'e', 'ee', 'b', 'u', 's', 'h', 'kha', 'n', 'kha', 'dha', 'aa', 'bh', 's', 'd', 'uu', 'aa', 'aa', 'o', 'ta', 'rr', 'y', 'ruu', 'ah', 'd', 'dha', 'h', 'rr', 'ruu', 'u', 'm', 'r', 'ee', 'ana', 'thah', 'ao', 'ks', 'll', 'u', 'ks', 'thah', 'i', 'th', 'cha', 'bh', 'Ph', 'uu', 'v', 'ks', 'P', 'bh', 'thah', 'sh', 'o', 'da', 'ee', 'thah', 'thah', 'aa', 'cha', 'll', 'kha', 'ao', 'jh', 'n', 'v', 'ruu', 'jna', 'bh', 'y', 'ks', 'bh', 'dh', 'i', 'thah', 'ao', 'ru', 'thah', 'cha', 'ee', 'ao', 'll', 'aa', 'ai', 'v', 'aa', 'ruu', 'dh', 'thah', 'll', 'ks', 'sh', 'am', 'u', 'rr', 'm', 'rr', 'r', 'ana', 's', 's', 'aa', 'uu', 'kha', 'ks', 'l', 'aa', 'da', 'd', 'e', 'da', 'th', 'b', 'ks', 'da', 'P', 'll', 'tha', 'n', 'ao', 'aa', 'kha', 'jha', 'am', 'rr', 'th', 'th', 'ta', 'oo', 'b', 'gh', 'rr', 'r', 'n', 'ta', 'uu', 'da', 'u', 'll', 'v', 'o', 'v', 'kha', 'ana', 'jha', 'y', 'dh', 'uu', 'jha', 'jh', 'tha', 'dh', 'ao', 'aa', 'h', 'kha', 'thah', 'bh', 'jha', 'aa', 'cha', 'v', 'o', 'Ph', 'gh', 'l', 'ta', 'gh', 'kha', 'dh', 'kha', 'da', 'l', 'ta', 'e', 'aa', 'o', 'ch', 'ana', 'v', 'tha', 'e', 'th', 'Ph', 'sh', 'ah', 'g', 'tha', 'da', 'uu', 'i', 'sa', 'thah', 's', 'bh', 'ee', 'cha', 'ao', 'ch', 'jh', 'gh', 'll', 'ruu', 'aa', 'bh', 'ks', 'tha', 'uu', 'thah', 'ks', 'dh', 'bh', 'ruu', 'thah', 'P', 'oo', 'cha', 'oo', 'cha', 's', 'e', 'ana', 'y', 'aa', 'P', 'oo', 'dha', 'aa', 'kha', 'aa', 'ai', 'aa', 'aa', 'll', 'thah', 'h', 'aa', 'dha', 'dh', 'ch', 'ao', 'h', 'jh', 'e', 'kha', 'ks', 'jh', 'ai', 'tha', 'ks', 'ta', 'o', 'r', 'ah', 'l', 'ah', 'bh', 'aa', 'th', 'sh', 'ks', 'h', 'ai', 'kha', 'aa', 'oo', 'aa', 'd', 'uu', 'kha', 'jha', 'ks', 'rr', 'r', 'o', 'oo', 'thah', 's', 'sa', 'v', 'y', 'da', 'o', 'uu', 'da', 'll', 'e', 'cha', 'y', 'ao', 'ee', 'dh', 'h', 'm', 'l', 'uu', 'n', 'P', 'ta', 'ruu', 'a', 'll', 'ch', 'ana', 'ee', 'thah', 'bh', 'dha', 'thah', 'u', 'ru', 'dh', 'ee', 'ta', 'bh', 'l', 'ana', 'ee', 'jha', 'Ph', 'jha', 'dha', 'd', 'uu', 'h', 'am', 'dha', 'ru', 'ta', 'uu', 'aa', 'sa', 'ks', 'u', 'aa', 'ao', 'e', 'll', 'oo', 'g', 'kha', 'ru', 'ks', 'th', 'e', 'ta', 'da', 'ao', 'ks', 'sh', 'bh', 'aa', 'th', 'ruu', 'da', 'ta', 'Ph', 'y', 'u', 'jh', 'o', 'o', 'y', 'dh', 'cha', 'r', 'h', 'uu', 'ks', 'h', 'am', 'gh', 'rr', 'thah', 'dh', 'kha', 'r', 'll', 'bh', 'uu', 'aa', 'bh', 'dha', 'd', 'g', 'ah', 'jh', 'thah', 'Ph', 'th', 'bh', 'thah', 'uu', 'ruu', 'ka', 'kha', 'Ph', 'r', 'y', 'sh', 'ee', 'rr', 'y', 'am', 'e', 'y', 'ka', 'ru', 'ai', 'uu', 'ks', 'o', 'u', 'ru', 'P', 'ru', 'oo', 'a', 'Ph', 'aa', 'aa', 'da', 'ii', 'uu', 'b', 'kha', 'jha', 'rr', 'gh', 'ao', 'u', 'ii', 'ah', 'Ph', 'e', 'a', 'h', 'm', 'oo', 'ii', 'aa', 'uu', 'uu', 'l', 'e', 'thah', 'm', 'ta', 'e', 'ruu', 'r', 'll', 'u', 'o', 'ruu', 'ee', 'e', 'd', 'ch', 'Ph', 'll', 'd', 'gh', 'thah', 'ks', 'jh', 'rr', 'Ph', 'tha', 'dha', 'thah', 'aa', 'P', 'ii', 'ao', 'bh', 'e', 'cha', 'cha', 'ks', 'bh', 'ana', 'ks', 'gh', 'm', 'y', 'Ph', 'u', 'dh', 'rr', 'Ph', 'rr', 'kha', 'e', 'da', 'll', 'ao', 'd', 'h', 'sa', 'th', 'aa', 'ana', 'ks', 'v', 'bh', 'm', 'e', 'Ph', 'ii', 'ee', 'ai', 'dh', 'n', 'Ph', 'r', 'u', 'd', 'cha', 'n', 'v', 'aa', 'd', 'ru', 'u', 'bh', 'n', 'ta', 'jha', 'y', 'jha', 'thah', 'e', 'da', 'ai', 'h', 'gh', 'ks', 'm', 'rr', 'dh', 'b', 'y', 'cha', 'n', 'aa', 'ch', 'ks', 's', 'thah', 'uu', 'o', 'u', 'aa', 'dh', 'aa', 'oo', 'dha', 'ruu', 'y', 'jha', 's', 'ii', 'sa', 'th', 'n', 'n', 'ao', 'jha', 's', 'jh', 'jh', 'ta', 'th', 'o', 'cha', 'e', 'll', 'ruu', 'ka', 'bh', 'ka', 'ks', 'gh', 'ru', 'i', 'o', 'ru', 'sh', 'uu', 'gh', 'sa', 'e', 'aa', 'ruu', 'b', 'dha', 'll', 'v', 'ii', 'rr', 'll', 'i', 'v', 'thah', 'Ph', 's', 'u', 'jh', 'aa', 'ee', 'll', 'e', 'y', 'u', 'ee', 'v', 's', 'cha', 'jha', 'am', 'bh', 'da', 'th', 'rr', 'gh', 'e', 'll', 'h', 'cha', 'ta', 'ruu', 'jh', 'ru', 'aa', 'g', 'h', 'ah', 'v', 'Ph', 'th', 'dh', 'aa', 'ru', 'u', 'thah', 'aa', 'bh', 'ee', 'ee', 'rr', 'P', 'oo', 'cha', 'ruu', 'ai', 'uu', 'i', 'tha', 'v', 'oo', 'b', 'Ph', 'oo', 'am', 'jha', 'jha', 'jh', 'n', 'r', 'ao', 'ruu', 'th', 'dha', 'bh', 'o', 'b', 'oo', 'bh', 'ru', 'ta', 'ee', 'll', 'h', 'ao', 'thah', 'thah', 'uu', 's', 'oo', 'v', 'uu', 'oo', 'ka', 'P', 'th', 'th', 'am', 'ah', 'ana', 'y', 'oo', 'dh', 'ta', 'm', 'Ph', 'm', 'u', 'ee', 'ana', 'n', 'oo', 'uu', 'l', 'P', 'uu', 'ruu', 'cha', 'jna', 'ru', 'v', 'dh', 'ruu', 'ru', 'o', 'ana', 'thah', 'ch', 'am', 'dha', 'bh', 'ao', 'ruu', 'ka', 'g', 'r', 'h', 'ee', 'd', 'P', 'aa', 'da', 'r', 'dh', 'uu', 'rr', 'v', 'jh', 'd', 'i', 'ruu', 'ruu', 'v', 'y', 'h', 'e', 'h', 'aa', 'bh', 'th', 'n', 'l', 'e', 'Ph', 'ruu', 'ah', 'r', 'ee', 'o', 'kha', 'y', 'jha', 'aa', 'cha', 'd', 'n', 'y', 'aa', 'r', 'bh', 'P', 'ah', 'bh', 'h', 'd', 'l', 'rr', 'ai', 'n', 'ee', 'y', 'ee', 'aa', 'cha', 'y', 'h', 'uu', 'ee', 'gh', 'dh', 'gh', 'bh', 'a', 'ee', 'aa', 'da', 'v', 'dh', 'ru', 'ru', 'd', 'o', 'kha', 'e', 'dh', 'ch', 'uu', 'jha', 'thah', 'uu', 'ee', 'ruu', 'h', 'da', 'da', 'n', 'aa', 'ta', 'y', 'gh', 'ee', 'rr', 'dha', 'r', 'Ph', 'jh', 'ru', 'h', 'ai', 'am', 'ao', 'ruu', 'ao', 'a', 'll', 'h', 'gh', 'm', 'u', 'ru', 'ah', 'g', 'i', 'ao', 'ru', 'jh', 'cha', 'P', 'h', 'thah', 'n', 'ks', 'g', 'd', 'thah', 'd', 'dh', 'ch', 'v', 'ai', 'ana', 'ru', 'e', 's', 'cha', 'b', 'Ph', 'da', 'P', 'h', 'e', 'i', 'v', 'b', 'dha', 'n', 'jh', 'ee', 'da', 'gh', 'sh', 'ta', 'ee', 'u', 'th', 'aa', 'aa', 'aa', 'dh', 'i', 'u', 'gh', 'aa', 'dh', 'uu', 'dha', 's', 'tha', 'rr', 'v', 'v', 'rr', 'i', 's', 'e', 'd', 'ks', 'ru', 'ai', 'tha', 'sh', 'd', 'gh', 'u', 's', 'h', 'uu', 'Ph', 'tha', 'll', 'ruu', 'jh', 'oo', 'ka', 'kha', 'n', 'Ph', 'sa', 'ta', 'ruu', 'ai', 'sh', 'thah', 'e', 'o', 'dh', 'rr', 'v', 'uu', 'h', 'Ph', 'ru', 'ee', 'thah', 'jha', 'm', 'ai', 'u', 'h', 'ruu', 'u', 'oo', 'ao', 'am', 'ee', 'bh', 'dha', 'uu', 'da', 'n', 'am', 'bh', 'oo', 'Ph', 'ch', 'ana', 'thah', 'm', 'ch', 'y', 'ru', 'bh', 'e', 'ana', 'oo', 'ka', 'd', 'jh', 'u', 'd', 'ru', 'dh', 'Ph', 'm', 'y', 'dha', 'u', 'ana', 'uu', 'll', 'Ph', 'ee', 'ks', 'ee', 'e', 'y', 'o', 'rr', 'll', 'dha', 'oo', 'n', 'v', 'ana', 'dh', 'ah', 'P', 'jh', 'ruu', 'ch', 'kha', 'jha', 'sa', 'ruu', 'i', 'll', 'i', 'sa', 'd', 'y', 'ta', 'kha', 'ruu', 's', 'uu', 'ii', 'jh', 'n', 'aa', 'v', 'r', 'da', 'gh', 'aa', 'h', 'am', 'uu', 'da', 'e', 'ks', 'oo', 'dh', 'g', 'uu', 'ee', 'e', 'th', 'e', 'aa', 'ks', 'll', 'v', 'oo', 'ee', 'u', 'Ph', 'v', 'i', 'll', 'dha', 'tha', 'l', 'am', 'ks', 'Ph', 'y', 'r', 'i', 'e', 'e', 'ai', 'aa', 'jha', 'll', 'kha', 'ao', 'uu', 'bh', 'ta', 'h', 'y', 'aa', 'm', 'ka', 'ruu', 'da', 'tha', 'ru', 'thah', 'aa', 'ruu', 'e', 'ch', 'ee', 'rr', 'g', 'ao', 'ana', 'o', 'v', 'h', 'll', 'h', 'i', 'jha', 'aa', 'jha', 'am', 'g', 'e', 'P', 'tha', 'aa', 'aa', 'thah', 'y', 'ah', 'th', 'll', 'bh', 'dha', 'ai', 'ii', 'bh', 'th', 'ii', 'm', 'r', 'thah', 'bh', 'm', 'ta', 'th', 'ai', 'P', 'uu', 'bh', 'kha', 'bh', 'ta', 'u', 'uu', 'll', 'aa', 'm', 'ee', 'h', 'i', 'y', 'i', 'gh', 'uu', 'ks', 'v', 'ch', 'uu', 'uu', 'v', 'u', 'ch', 'e', 'b', 's', 'bh', 'oo', 'da', 'o', 'kha', 'ks', 'gh', 'aa', 'ruu', 'tha', 'h', 'bh', 'ai', 'r', 'rr', 'ta', 'ruu', 'Ph', 'am', 'i', 'bh', 'ah', 'ana', 'jh', 'dha', 'sh', 'ana', 'n', 'y', 'kha', 'e', 'th', 'da', 'ruu', 'ks', 'e', 'd', 'ta', 'e', 'am', 'jha', 'v', 'oo', 'ana', 'h', 'aa', 'gh', 'aa', 'Ph', 'sa', 'l', 'P', 'ah', 'r', 's', 'll', 'h', 'y', 'ai', 'u', 'kha', 'rr', 'gh', 'ah', 'm', 'uu', 'cha', 'm', 'thah', 'i', 'd', 'oo', 'rr', 'aa', 'jha', 'sh', 'dha', 'd', 'ana', 'P', 'sh', 'v', 's', 'uu', 'u', 'oo', 'd', 'ks', 'ka', 'uu', 'am', 'ruu', 'da', 'h', 'y', 'll', 'cha', 'uu', 'h', 'dha', 'd', 'ruu', 'am', 'thah', 'h', 'ch', 'am', 'ta', 'e', 'bh', 'Ph', 'l', 'thah', 'bh', 'ee', 'ks', 'uu', 'ee', 'th', 'aa', 'cha', 'cha', 'am', 'aa', 'jh', 'ks', 'uu', 'jh', 'aa', 'jha', 'ruu', 'ruu', 'ta', 'e', 'aa', 'ee', 'tha', 'bh', 'th', 'o', 'u', 'ruu', 'cha', 'l', 'thah', 'ru', 'r', 'ka', 'ks', 'i', 'd', 'cha', 'aa', 'l', 'thah', 'ks', 'e', 's', 'll', 'cha', 'aa', 'ruu', 'sa', 'ch', 'th', 'd', 'Ph', 'jha', 'i', 'ao', 'v', 'ta', 'e', 'oo', 'ru', 'Ph', 'h', 'ks', 'sh', 'ai', 'b', 'h', 'ruu', 'v', 'Ph', 'ao', 'Ph', 'ee', 'h', 'rr', 'dh', 'dha', 'uu', 'dha', 'thah', 'P', 'd', 'n', 's', 'ka', 's', 'da', 'd', 'y', 'P', 'gh', 'jna', 'oo', 'ao', 'ee', 'uu', 'ah', 'dh', 'ah', 's', 'ee', 'oo', 'da', 'ana', 'm', 's', 'ii', 'dh', 'ana', 'ah', 'v', 'n', 'Ph', 'r', 'g', 'dha', 'm', 'v', 'thah', 'bh', 'r', 'jha', 'r', 'oo', 'aa', 'tha', 'am', 'ee', 'aa', 'sa', 'dh', 'dh', 'ka', 'ii', 'uu', 'rr', 'jh', 'cha', 'ah', 'ks', 'ks', 'jha', 'da', 'tha', 'gh', 'da', 'tha', 'ru', 'ks', 'h', 'm', 'ee', 'y', 'h', 's', 'ee', 'ta', 'm', 'u', 'jh', 'a', 'th', 'P', 'jha', 'ii', 'h', 'P', 'ao', 'd', 'tha', 'y', 'sh', 'bh', 'jha', 'ah', 'rr', 'ru', 'ta', 'am', 'ee', 'cha', 'u', 'ao', 'i', 'jha', 'bh', 'i', 'da', 'aa', 'h', 'r', 'jha', 'ai', 'n', 'u', 'ch', 'ee', 'ana', 'da', 'am', 'ta', 'rr', 'r', 'i', 'ai', 'Ph', 'e', 'ruu', 'ana', 'ai', 'ruu', 'oo', 'e', 'ee', 'cha', 'kha', 'u', 'n', 'ao', 'ch', 'bh', 'cha', 'ruu', 'oo', 'ee', 'am', 'll', 'thah', 'aa', 'gh', 'v', 'ee', 'ana', 'rr', 'gh', 'da', 'ks', 'jh', 'e', 'da', 'e', 'l', 'ee', 'cha', 'am', 'ks', 'ks', 'i', 'ks', 'ah', 'cha', 'g', 'Ph', 's', 'kha', 'rr', 'ch', 'o', 'aa', 'ee', 'ta', 'ruu', 'dh', 'thah', 'oo', 'n', 'dha', 'ru', 'da', 'n', 'u', 'Ph', 'dh', 'ee', 'u', 'jh', 'thah', 'u', 'y', 'e', 'ao', 'u', 'l', 'ii', 'gh', 'n', 'ana', 'l', 'ao', 'ru', 'h', 'sh', 'aa', 'll', 'kha', 'th', 'll', 'aa', 'P', 'th', 'l', 'ai', 'e', 'gh', 'kha', 'ks', 'da', 'g', 'ai', 'v', 'th', 'jh', 'r', 'da', 'dh', 'da', 'thah', 'ee', 'ee', 'bh', 'll', 'uu', 'v', 'P', 'jha', 'll', 'll', 'v', 'ee', 'ruu', 'gh', 'ai', 'dh', 'kha', 'g', 'y', 'ii', 'ks', 'jha', 'v', 'ee', 'ii', 'cha', 'uu', 'ruu', 'u', 's', 'y', 'am', 'e', 'i', 'ks', 'tha', 'r', 'uu', 'ks', 'rr', 'sh', 'jh', 'th', 'kha', 'b', 'Ph', 'e', 'thah', 'bh', 'jha', 'thah', 'ee', 'ru', 'ii', 'gh', 'g', 'ee', 'ana', 'n', 'l', 'P', 'tha', 's', 'e', 'll', 'l', 'jh', 'ai', 'r', 'ee', 'da', 'uu', 'dh', 'oo', 's', 'aa', 'rr', 'b', 'gh', 'h', 'h', 'bh', 'thah', 'r', 'd', 'r', 'sh', 'bh', 'th', 'ru', 'ks', 'm', 'aa', 'd', 'sa', 'P', 'aa', 'e', 'jh', 's', 'y', 'i', 'thah', 'n', 'thah', 'ao', 'cha', 'b', 'ana', 'll', 'i', 'thah', 'dh', 'Ph', 'jh', 'n', 'd', 'v', 'dh', 'thah', 'gh', 'bh', 'uu', 'e', 'ru', 'ee', 'aa', 'thah', 'jh', 'v', 'l', 'r', 'ka', 'dh', 'e', 'am', 'tha', 'ka', 'dh', 'thah', 'r', 'ee', 'rr', 'jh', 'ch', 'ka', 'ruu', 'sh', 'ah', 'bh', 'rr', 'h', 'thah', 'da', 'g', 'u', 'a', 'da', 'oo', 'uu', 'd', 'jh', 'ii', 'd', 'r', 'ks', 'ao', 'jh', 'cha', 'v', 'v', 'ta', 'o', 'g', 'm', 'ks', 'll', 'e', 'ru', 'u', 'ee', 'ee', 'y', 'ee', 'bh', 'h', 'ta', 'bh', 'ruu', 'ru', 'uu', 'aa', 'aa', 'ah', 'th', 'i', 's', 'ks', 'jha', 'v', 'dh', 's', 'h', 'sa', 'aa', 'Ph', 'm', 'jh', 'da', 'r', 'y', 'aa', 'ai', 'v', 'oo', 'ru', 'd', 'ta', 'r', 'da', 'P', 'ana', 'aa', 'll', 'd', 'th', 'jha', 'i', 'dh', 'll', 'ta', 'jh', 'bh', 'y', 'ruu', 'th', 'ta', 'Ph', 'sh', 'dh', 'l', 'ah', 'uu', 'ruu', 'n', 's', 'Ph', 'r', 'jh', 's', 'ruu', 'l', 'bh', 'u', 'aa', 'uu', 'l', 'm', 'm', 'd', 'jha', 'ii', 'ii', 'uu', 'e', 'jh', 'v', 'l', 'thah', 'a', 'll', 'gh', 'ch', 'oo', 'i', 'dh', 'jha', 'y', 'll', 'd', 'rr', 'aa', 'da', 'am', 'gh', 'ee', 'bh', 'thah', 'll', 'ka', 'oo', 'jh', 'da', 'ta', 'r', 'ta', 'bh', 'Ph', 'v', 'gh', 'tha', 'gh', 'dh', 'a', 'ao', 'll', 'thah', 'll', 'th', 'jh', 'thah', 'bh', 'P', 'da', 'kha', 'P', 'ta', 'v', 'ruu', 'v', 'ruu', 'u', 'bh', 'oo', 'tha', 'v', 'gh', 'ru', 'i', 'r', 'u', 'g', 'ruu', 'h', 'b', 'tha', 'u', 'ee', 'r', 'i', 'jh', 'uu', 'uu', 'cha', 'ru', 'da', 'e', 'l', 'Ph', 'da', 'dh', 'tha', 'uu', 'l', 'bh', 'da', 'r', 'ah', 'll', 'tha', 'kha', 'y', 'uu', 'm', 'd', 'gh', 'sh', 'ana', 'ch', 'e', 'dh', 'ru', 'h', 'gh', 'v', 'dha', 'aa', 'o', 'dh', 'ru', 'u', 'gh', 'ch', 'oo', 'cha', 'ee', 'ka', 'r', 'cha', 'ka', 'g', 'ana', 'P', 'rr', 'dh', 'jha', 'thah', 'aa', 'aa', 'ch', 'da', 'ks', 'ee', 'P', 'ks', 'sh', 'ii', 'u', 'am', 'bh', 'aa', 'o', 'da', 'e', 'jha', 'sh', 'ah', 'v', 'gh', 'aa', 'aa', 'ru', 'Ph', 'tha', 'jh', 'ee', 'P', 'da', 'oo', 'ee', 'jh', 'th', 's', 'e', 'u', 'dh', 'l', 'v', 'ee', 'l', 'u', 'ta', 'ah', 'ah', 'ana', 'dha', 'h', 'P', 's', 'h', 'dha', 'ta', 'sh', 'P', 'jha', 'i', 'ah', 'kha', 'dh', 'thah', 'ta', 'kha', 's', 'bh', 'gh', 'm', 'ks', 'ee', 'u', 'e', 'aa', 'o', 'uu', 'l', 'n', 'da', 'jh', 'ta', 'ch', 'P', 'sh', 'jh', 'bh', 'h', 'ii', 'kha', 'jha', 'am', 'v', 'bh', 'uu', 'ana', 'r', 'dh', 'v', 'dha', 'b', 'b', 'ch', 'jha', 'bh', 'ch', 'am', 'h', 'bh', 'e', 'th', 'kha', 'ao', 'P', 'bh', 'dh', 's', 'e', 'gh', 'ks', 'ta', 'dha', 'thah', 'ru', 'll', 'ah', 'rr', 'h', 'uu', 'v', 'ana', 'cha', 'ah', 'ru', 'aa', 'oo', 'ana', 'cha', 'dh', 'e', 'da', 'uu', 'dha', 'dha', 'da', 'jha', 'am', 'ii', 'rr', 'ks', 'ks', 'ai', 'y', 'dha', 'bh', 'am', 'h', 'aa', 'u', 'ruu', 'ka', 'd', 's', 'gh', 'thah', 'ks', 'am', 'n', 'ah', 'bh', 's', 'Ph', 'ai', 'll', 'bh', 'ka', 'Ph', 'ii', 'thah', 's', 'P', 'g', 'dha', 'aa', 'ruu', 'd', 'tha', 'ai', 'dh', 'sa', 'i', 'gh', 'thah', 'ana', 'gh', 'dha', 'uu', 'y', 'uu', 'aa', 'gh', 'jh', 'ana', 'e', 'am', 'ru', 'jh', 'dh', 'ch', 'ch', 'a', 'u', 'oo', 'ruu', 'r', 'thah', 'Ph', 'aa', 'cha', 'ruu', 'am', 'da', 'ta', 'ruu', 'aa', 'cha', 'ch', 'th', 'ii', 'Ph', 'dha', 'thah', 'y', 'r', 'ai', 'Ph', 'bh', 'bh', 'n', 'e', 'ta', 'm', 'th', 'oo', 'ah', 'y', 'ru', 'sh', 'tha', 'Ph', 'jha', 'dh', 'rr', 'ana', 'd', 'jha', 'jh', 'aa', 'thah', 'ee', 'aa', 'am', 'thah', 'dha', 'uu', 'v', 'P', 'll', 'sa', 'dha', 'aa', 'uu', 'ruu', 'dh', 'ii', 'gh', 'd', 'ah', 'ta', 'bh', 'aa', 'l', 'e', 'ii', 'ii', 'Ph', 'th', 'kha', 'ee', 'v', 'ks', 'a', 'uu', 'r', 'th', 'ta', 'Ph', 'y', 'ana', 'rr', 'ta', 'sh', 'ta', 'dh', 'tha', 'da', 's', 'sa', 'ch', 'P', 'll', 'aa', 'u', 'ru', 'cha', 'uu', 'dha', 'ks', 'u', 'h', 'ta', 'thah', 'ee', 'ii', 'thah', 'sh', 'e', 'Ph', 'ta', 'rr', 'aa', 'gh', 'cha', 'i', 'ah', 'o', 'jh', 'cha', 's', 'ai', 'dha', 'aa', 's', 'aa', 'v', 'bh', 'ch', 'uu', 'r', 'l', 'dh', 'am', 'm', 'y', 'oo', 'am', 'g', 'h', 'u', 'n', 'bh', 'n', 's', 'tha', 'Ph', 'aa', 'v', 'v', 'am', 'kha', 'ee', 'jna', 'aa', 'u', 's', 'u', 'uu', 'bh', 'dha', 'bh', 'ru', 'ruu', 'g', 'aa', 'u', 'P', 'd', 'b', 'aa', 'll', 'e', 'd', 'uu', 'a', 'tha', 'Ph', 'h', 'bh', 'l', 'dha', 'tha', 'ks', 'bh', 'dha', 'o', 'am', 'ch', 'ii', 'l', 'jh', 'rr', 'y', 'e', 'uu', 'aa', 'ks', 'oo', 'aa', 'uu', 'ru', 'sh', 'n', 'thah', 'th', 'thah', 'aa', 'aa', 'ana', 'kha', 'thah', 'o', 'aa', 'uu', 'oo', 'a', 'n', 'r', 'oo', 'da', 'i', 'aa', 'uu', 'ruu', 'aa', 'o', 'uu', 's', 'ii', 'jha', 'ii', 'jha', 'thah', 'i', 'o', 'ii', 'b', 'aa', 'l', 'aa', 'v', 'thah', 'ks', 'aa', 'dha', 'Ph', 'ee', 'd', 'ks', 's', 'rr', 'ai', 'dh', 'ruu', 'rr', 'bh', 'oo', 'ta', 'ru', 'P', 'o', 'ruu', 'y', 'dh', 's', 'ai', 'sh', 'am', 'aa', 'aa', 'ruu', 'thah', 'bh', 'Ph', 'bh', 'aa', 'm', 'dh', 'uu', 'tha', 'll', 'ee', 'ee', 'tha', 'h', 'i', 'll', 'Ph', 'oo', 'da', 'l', 'uu', 'da', 'tha', 'r', 'am', 'ta', 'v', 'gh', 'oo', 'Ph', 'uu', 'e', 'am', 'tha', 'thah', 'ii', 'th', 'dha', 'v', 'P', 'ta', 'r', 'ru', 'ks', 'r', 'am', 'aa', 'jh', 'da', 'P', 'th', 'ai', 'y', 'gh', 'ee', 'ks', 'ch', 'ee', 'ka', 'g', 'a', 'ee', 'll', 'jh', 'e', 'e', 'l', 'ana', 'Ph', 'i', 'll', 'h', 'ana', 's', 'th', 'ks', 'r', 'kha', 'ks', 'e', 'rr', 'ana', 'e', 'ru', 'h', 'tha', 'm', 'y', 'ks', 'h', 'sa', 'ruu', 'v', 'e', 'thah', 'dha', 'Ph', 'Ph', 's', 'ru', 'Ph', 'ana', 'a', 'dh', 'aa', 'ai', 'kha', 'ta', 'ii', 'e', 'aa', 'll', 'ah', 'ta', 'gh', 's', 's', 'ee', 'thah', 'i', 'i', 'r', 'h', 'y', 'aa', 'ana', 'r', 'jh', 'i', 'th', 'ru', 'u', 'kha', 'Ph', 'oo', 'll', 'v', 'jh', 'sa', 'v', 'ks', 'bh', 'ee', 'ruu', 'ruu', 'ii', 'gh', 'ruu', 'ruu', 'jh', 'thah', 'uu', 'ta', 'ee', 'tha', 'r', 'uu', 's', 'th', 'a', 'ana', 'jh', 'thah', 'oo', 'e', 'kha', 'd', 'i', 'b', 'a', 'thah', 'dha', 'aa', 'thah', 'bh', 'ai', 'da', 'ai', 'aa', 'dha', 'v', 'ta', 'jh', 'bh', 'ai', 'am', 'a', 'ii', 'ruu', 'e', 'thah', 'ta', 'P', 'u', 'Ph', 'a', 'u', 'gh', 'kha', 'd', 'v', 'r', 'ana', 'sa', 'ee', 'h', 'd', 'bh', 'ta', 'ru', 'am', 'n', 'jha', 'thah', 'da', 'd', 'm', 'r', 'ch', 'ai', 'l', 'h', 'dh', 'aa', 'aa', 'rr', 'l', 'bh', 'ruu', 'u', 'ee', 'v', 'v', 'ee', 'th', 'ru', 'ao', 'n', 'cha', 'am', 'y', 'ao', 'th', 'n', 'jha', 'ta', 'dha', 'jha', 'ta', 'e', 'oo', 'dh', 'ai', 'jh', 'Ph', 'ah', 'll', 'P', 'g', 'ee', 'bh', 'jh', 'th', 'ks', 'v', 'da', 'thah', 'y', 'ee', 'r', 's', 'oo', 'ka', 'oo', 'ah', 'am', 'r', 'ruu', 'rr', 'ee', 's', 'i', 'g', 'v', 'uu', 'dh', 'ch', 'dha', 'o', 'da', 'b', 'kha', 'r', 'gh', 'd', 'm', 'sh', 'dh', 'g', 'uu', 'ru', 'gh', 'th', 'b', 'ah', 'tha', 'aa', 'bh', 'a', 'P', 'a', 'ao', 'h', 'Ph', 'v', 'n', 'aa', 'll', 'e', 'ao', 'ta', 'kha', 'ah', 'am', 'thah', 'gh', 'ai', 'gh', 'cha', 'ks', 'aa', 'd', 'ta', 'e', 'ch', 'ah', 'tha', 'n', 'aa', 'i', 'll', 'sh', 'kha', 'y', 'ta', 'da', 'ao', 'ee', 'o', 'oo', 'am', 'h', 'v', 'P', 'ta', 'ao', 'cha', 'thah', 'y', 'kha', 'am', 'oo', 'kha', 'ks', 'tha', 'ruu', 'oo', 'tha', 'm', 'tha', 'ii', 's', 'bh', 'gh', 'd', 'v', 'ruu', 'am', 'kha', 'Ph', 'th', 'h', 'ee', 'ru', 'u', 'ruu', 'n', 'ruu', 'a', 'th', 'ru', 'll', 'ru', 'gh', 'ru', 'oo', 'uu', 'm', 'gh', 'aa', 'gh', 'da', 'ks', 'v', 'ks', 'ta', 'sa', 'uu', 'ana', 'll', 'ru', 'ruu', 'ruu', 'P', 'i', 'Ph', 'bh', 'e', 'thah', 'rr', 'ks', 'ee', 'h', 'Ph', 'P', 'Ph', 'Ph', 'a', 'h', 'rr', 'r', 'dha', 'thah', 'dh', 'e', 'ai', 'ta', 'v', 'ao', 'dh', 'aa', 'bh', 'bh', 'bh', 'bh', 'ai', 'gh', 'oo', 'ks', 'jna', 'b', 'ee', 'am', 'Ph', 'v', 'n', 'y', 'kha', 'g', 'dh', 'dh', 'aa', 'sa', 'P', 'ks', 'P', 'am', 'jha', 'thah', 's', 'kha', 'u', 'ks', 'ru', 'm', 'ai', 'l', 'uu', 'dh', 'aa', 'ruu', 'ruu', 'P', 'ta', 'Ph', 'ks', 'ta', 'h', 'o', 'r', 'gh', 'rr', 'a', 'sh', 'll', 'thah', 'ee', 'Ph', 'h', 'ao', 'uu', 'ta', 'dh', 'g', 'm', 'ah', 'Ph', 'rr', 'dh', 'u', 'ks', 'aa', 'dha', 'jha', 'th', 'ch', 'uu', 'u', 'n', 'b', 'ru', 'am', 'l', 'ks', 'sh', 'P', 'y', 'cha', 'kha', 'rr', 'h', 'y', 'n', 'h', 'th', 'dha', 'e', 'jh', 'da', 'Ph', 'kha', 'am', 'gh', 'gh', 'ana', 'oo', 'ch', 'r', 'ai', 'v', 'sa', 'ee', 'l', 'ee', 'aa', 'sa', 'dh', 'ru', 'thah', 'kha', 'jha', 'oo', 'o', 'gh', 'da', 'e', 'uu', 'ah', 'e', 'ao', 's', 'ta', 'ana', 'sa', 'ruu', 'jha', 'dh', 'thah', 'uu', 'thah', 'aa', 'am', 'bh', 'ee', 'jha', 's', 'oo', 'ee', 'y', 'tha', 'bh', 'y', 'ana', 'o', 'tha', 'r', 'ee', 'ks', 'ks', 'r', 'ah', 'dha', 'ah', 'kha', 'rr', 'oo', 'kha', 's', 'ao', 'Ph', 'ana', 'ruu', 'r', 'll', 'uu', 'kha', 'thah', 'th', 'P', 'ah', 'dha', 'u', 'aa', 'rr', 'oo', 'cha', 'h', 'v', 'bh', 'sa', 'ai', 'e', 'v', 'a', 'g', 'kha', 'a', 'uu', 'n', 'ao', 'thah', 'l', 'ks', 'ah', 'dh', 'ee', 'dh', 'l', 'kha', 'h', 'tha', 'jha', 'n', 'e', 'uu', 'ks', 'oo', 'ks', 'n', 'a', 'ru', 'bh', 'kha', 'oo', 'da', 'h', 'kha', 'l', 'da', 'da', 'aa', 'h', 'ru', 'l', 'rr', 'cha', 'am', 'o', 'ruu', 'am', 'bh', 'dh', 'da', 'gh', 'h', 'll', 'kha', 'h', 'kha', 'ta', 'ks', 'oo', 'rr', 'e', 'sh', 'kha', 'v', 'gh', 'ii', 'ee', 'g', 'gh', 'ai', 'aa', 'bh', 'aa', 'gh', 'ks', 'rr', 'aa', 'aa', 'sa', 'jha', 'th', 'ru', 'v', 'r', 'ee', 'r', 'sa', 'v', 'th', 'uu', 'd', 'jh', 'sa', 'u', 'ks', 'i', 'P', 's', 'll', 'ruu', 'th', 'bh', 'aa', 'm', 'ch', 'y', 'bh', 'Ph', 'd', 'n', 'uu', 'ii', 'ks', 'y', 'thah', 'jh', 'dha', 'll', 'h', 'rr', 'Ph', 'uu', 'i', 'gh', 'ao', 'rr', 'thah', 'oo', 'thah', 'sa', 'ii', 'oo', 'tha', 'b', 'ta', 'uu', 'bh', 'uu', 'sa', 'thah', 'aa', 'Ph', 'i', 'ru', 'cha', 'ee', 'cha', 'thah', 'thah', 'l', 'th', 'ruu', 'v', 'n', 'u', 'dha', 'ai', 'jha', 'dh', 'thah', 's', 'dha', 'da', 's', 'aa', 'da', 'u', 'kha', 'da', 'n', 'ana', 'aa', 'da', 'thah', 'oo', 'P', 'ch', 'uu', 'uu', 'aa', 'gh', 'thah', 'th', 'ee', 'ruu', 'ru', 'ks', 'Ph', 'ai', 'uu', 's', 'uu', 's', 'th', 'uu', 's', 'thah', 'd', 'dh', 'ana', 'h', 'uu', 'ana', 'y', 's', 'i', 'tha', 'thah', 'th', 'ks', 'bh', 'm', 'g', 'ao', 'gh', 'n', 'h', 'th', 'th', 'aa', 'dha', 'r', 'th', 'e', 'ch', 'r', 'cha', 'e', 'h', 'ai', 'bh', 'ru', 'gh', 'oo', 'v', 'n', 'tha', 'v', 'h', 'Ph', 'uu', 'aa', 'ii', 'gh', 'uu', 'Ph', 'r', 'ao', 'ka', 'dh', 'bh', 'i', 'll', 'aa', 'r', 'ana', 'thah', 'aa', 'thah', 'thah', 'ruu', 'bh', 'Ph', 'n', 'bh', 'ana', 'aa', 'aa', 'uu', 'uu', 'ks', 'h', 'bh', 'ruu', 'rr', 'jh', 'r', 'da', 'aa', 'll', 'e', 'ao', 'v', 'ao', 'ch', 'tha', 's', 'ana', 'aa', 'm', 'll', 'bh', 'rr', 'cha', 'thah', 'n', 'ao', 'Ph', 'e', 'ta', 'r', 'jh', 'y', 'ru', 'cha', 'v', 'cha', 'r', 'b', 'ru', 'i', 'uu', 'ruu', 'ee', 'ii', 'll', 'b', 'rr', 'tha', 'ks', 'kha', 'Ph', 'da', 'am', 'ah', 'i', 'cha', 'gh', 'sa', 'rr', 'rr', 'dha', 'ai', 'h', 'uu', 'jh', 'oo', 'o', 'm', 'uu', 'ii', 'uu', 'oo', 'a', 'bh', 'ta', 'y', 'dha', 'ana', 'jh', 'am', 'ee', 'd', 'ks', 'o', 'll', 'jh', 'kha', 'ks', 'thah', 'rr', 'ee', 'a', 'a', 'l', 'jha', 'jh', 'kha', 'u', 'r', 'u', 'thah', 'thah', 'thah', 'cha', 'kha', 'da', 'aa', 'b', 'dh', 'jh', 'ana', 'e', 'th', 'oo', 'thah', 'ks', 'e', 'ah', 'h', 'e', 'r', 'v', 'jha', 'ru', 'e', 'jha', 'aa', 'o', 'ee', 'ai', 'ee', 'ka', 's', 'ee', 'ks', 'ruu', 'sh', 'dh', 'oo', 'r', 'v', 'jh', 'i', 'P', 'jha', 'aa', 'kha', 'n', 'dh', 'dh', 'aa', 'i', 'ai', 'aa', 'thah', 'ana', 'm', 's', 'y', 'cha', 'ks', 'bh', 'ah', 'ru', 'ana', 'ks', 'thah', 'thah', 'ta', 'h', 'n', 'n', 's', 'Ph', 'h', 'oo', 'uu', 'aa', 'Ph', 'uu', 'dh', 'cha', 'g', 'bh', 'aa', 'r', 'ru', 'r', 'v', 'o', 'P', 'v', 'ana', 'ee', 'ee', 'th', 's', 'aa', 'l', 'ks', 'uu', 'aa', 'th', 'm', 'ai', 'aa', 'ta', 'ks', 'aa', 'tha', 'ru', 'thah', 'jha', 'ks', 'oo', 'n', 'ta', 'da', 'da', 'aa', 'jha', 'sh', 'uu', 'ai', 'l', 'u', 'aa', 'ta', 'ana', 'ta', 'v', 'bh', 'n', 'ana', 'thah', 'ka', 'uu', 'ai', 'da', 'bh', 's', 'rr', 'ii', 'th', 'aa', 'ta', 'v', 'jha', 'cha', 'dha', 'oo', 'i', 'r', 'ta', 'ee', 'jha', 'y', 'h', 'thah', 'uu', 'tha', 'v', 'dh', 'ruu', 'ao', 'ru', 'bh', 's', 'ruu', 'm', 'h', 'jna', 'ks', 'll', 'jh', 'tha', 'kha', 'dh', 'cha', 'ana', 'uu', 'ks', 'ch', 'ana', 'th', 'uu', 'uu', 'ks', 'ah', 'sh', 'aa', 'aa', 'sh', 'cha', 'kha', 'sa', 'ks', 'ks', 'bh', 'thah', 'thah', 'v', 'dh', 'ta', 'l', 'uu', 'r', 'kha', 'm', 'ruu', 'am', 'dh', 'y', 'aa', 'ee', 'n', 'cha', 'uu', 'a', 'e', 'gh', 'Ph', 'rr', 'ao', 'jh', 'jha', 'uu', 'ks', 'd', 'cha', 'th', 'aa', 'ee', 'ru', 'v', 's', 'ka', 'aa', 'dh', 'P', 'sh', 'dh', 'ana', 'e', 'o', 'r', 'ao', 'da', 'sa', 'm', 'ai', 'ru', 'ru', 'oo', 'ah', 'jha', 'kha', 'dh', 'thah', 'thah', 'uu', 'da', 'dh', 'll', 'tha', 'v', 'g', 'aa', 'dha', 'oo', 'ao', 'ee', 'ah', 'uu', 'cha', 'aa', 'ee', 'v', 'ruu', 'e', 'cha', 'ruu', 'thah', 'ta', 'll', 'bh', 'ta', 'uu', 'ks', 'u', 'da', 'y', 'm', 'ks', 'v', 'ana', 'd', 'thah', 'e', 'tha', 'ii', 'b', 'v', 'll', 'h', 'l', 'thah', 'll', 'oo', 'm', 'r', 'y', 'uu', 'jha', 'dh', 'ai', 'ta', 'v', 'thah', 'v', 'e', 'da', 'dh', 'thah', 'sa', 'sh', 'ta', 'am', 'ch', 'ee', 'i', 'h', 'P', 'ru', 'ee', 'ta', 'ah', 'ee', 'd', 'jha', 'ai', 'ks', 'v', 'y', 'uu', 'uu', 'n', 'bh', 'y', 'am', 'r', 'ee', 'm', 'sh', 'ah', 'ii', 'ru', 'ka', 'e', 'bh', 's', 'm', 'ks', 'ka', 'ai', 'y', 'jha', 'bh', 'v', 'ta', 'da', 'u', 'gh', 'uu', 'll', 'bh', 'ka', 'uu', 'ch', 's', 'rr', 'gh', 'ch', 'da', 's', 'oo', 'uu', 'l', 'y', 'uu', 'v', 'ruu', 'g', 'v', 'r', 'a', 'n', 'aa', 'ruu', 'ru', 'oo', 'll', 'kha', 'ks', 'u', 's', 'o', 'll', 'v', 'th', 'thah', 'ai', 'bh', 'tha', 'aa', 'uu', 'thah', 'ii', 'kha', 'dha', 'uu', 'rr', 'ao', 'a', 'kha', 'oo', 'gh', 'aa', 'rr', 'dha', 'Ph', 'y', 'o', 'm', 'bh', 'i', 'jh', 'da', 'uu', 'ruu', 'ruu', 'kha', 'ana', 'gh', 'gh', 'da', 'rr', 'll', 'o', 'g', 'P', 'rr', 'h', 'ee', 'sh', 'ee', 'da', 'm', 'll', 'v', 'ana', 'h', 'n', 'l', 'v', 'aa', 'd', 'r', 'dh', 'uu', 'ta', 'jha', 'gh', 'bh', 'ks', 'n', 'ee', 'l', 'aa', 'i', 'bh', 'ta', 'n', 'ka', 'bh', 'ru', 'l', 'i', 'dh', 'da', 'bh', 'dha', 'thah', 's', 'ka', 'da', 'aa', 'ka', 'ai', 'th', 'gh', 'thah', 'uu', 'tha', 'o', 'sa', 'Ph', 'u', 'ai', 'h', 'd', 'i', 'gh', 'cha', 'n', 'aa', 'd', 'ruu', 'ks', 'am', 'bh', 'u', 's', 'r', 'ah', 'Ph', 'd', 'm', 'll', 'ii', 'uu', 'm', 'aa', 'ruu', 'o', 'ks', 'ka', 'dha', 'rr', 'sh', 'v', 'e', 'ta', 'cha', 'P', 'rr', 'm', 'dh', 'v', 'P', 'gh', 'o', 'ai', 'ka', 'h', 'l', 'll', 'bh', 's', 'cha', 'ee', 'n', 'da', 'u', 'n', 'da', 'rr', 'e', 'm', 'dh', 'dh', 'rr', 'da', 'v', 's', 'thah', 'da', 'h', 'ana', 'y', 'n', 'ru', 'oo', 'dh', 'y', 'a', 'ruu', 'ruu', 'da', 'h', 'e', 'Ph', 'Ph', 'ks', 'ana', 'gh', 'aa', 'ruu', 'ks', 'kha', 'thah', 'ru', 'dh', 'Ph', 'ao', 'ru', 'oo', 'thah', 'ks', 'P', 's', 'ana', 'aa', 'Ph', 'gh', 'th', 'jh', 'l', 'ruu', 'rr', 'y', 'dha', 'h', 'thah', 'Ph', 'uu', 'ks', 'aa', 'th', 'Ph', 'tha', 'kha', 'll', 'e', 'Ph', 'ah', 'tha', 'aa', 'e', 'ao', 'uu', 'sa', 'i', 'ee', 'jna', 'thah', 'bh', 'gh', 'dh', 'aa', 'ta', 'rr', 'n', 'y', 'uu', 'ch', 'P', 'ruu', 'u', 'rr', 'ruu', 'y', 'r', 'dha', 'ee', 'jh', 'ks', 'ks', 'ee', 'o', 'da', 'uu', 'n', 'h', 'gh', 'ana', 'thah', 'aa', 'thah', 'ii', 'thah', 'ii', 'g', 'cha', 'bh', 'ta', 'ta', 'u', 'ru', 'u', 'ruu', 'cha', 'd', 'ao', 'ch', 'ruu', 'ii', 'y', 'dh', 'gh', 'th', 'da', 'd', 's', 'ch', 'sa', 'tha', 'h', 'gh', 'll', 'tha', 'uu', 'h', 'am', 'tha', 'ta', 'kha', 'ana', 'a', 'l', 'uu', 'gh', 'r', 'dh', 'aa', 'th', 'cha', 'v', 'ah', 'thah', 'v', 'ru', 's', 'uu', 'jha', 'thah', 'da', 'dha', 'P', 'da', 'ee', 'Ph', 'e', 'aa', 'cha', 'll', 'gh', 'aa', 'Ph', 'g', 'v', 'll', 'a', 'bh', 'cha', 'uu', 'am', 's', 'r', 'ee', 'dha', 'jha', 'ruu', 'h', 'y', 's', 'kha', 'bh', 'ru', 'sa', 'd', 'l', 'dha', 'sa', 'm', 'h', 'Ph', 'ta', 'jha', 'bh', 'ai', 'gh', 'ah', 'v', 'aa', 'll', 'ta', 'sa', 'dh', 'a', 'e', 'dha', 'v', 'jha', 'dh', 'jh', 'thah', 'd', 'da', 'ru', 'gh', 'am', 'dh', 'da', 'ks', 'rr', 'ee', 'Ph', 'da', 'ii', 'ee', 'jha', 'bh', 'u', 'ee', 'aa', 'ai', 'bh', 'am', 'b', 'thah', 'i', 'h', 'u', 'ii', 'v', 'gh', 'ta', 'sa', 'bh', 'ah']\n"
     ]
    }
   ],
   "source": [
    "from tensorflow.keras.models import load_model\n",
    "\n",
    "# Load the model\n",
    "model = load_model('handwritten_character_model.h5')\n",
    "\n",
    "# Make predictions\n",
    "predictions = model.predict(X_test)\n",
    "predicted_labels = np.argmax(predictions, axis=1)\n",
    "\n",
    "# Map predicted labels to folder names\n",
    "folder_names = os.listdir(data_dir)\n",
    "predicted_classes = [folder_names[label] for label in predicted_labels]\n",
    "\n",
    "print(predicted_classes)\n"
   ]
  },
  {
   "cell_type": "code",
   "execution_count": 41,
   "metadata": {},
   "outputs": [
    {
     "name": "stderr",
     "output_type": "stream",
     "text": [
      "WARNING:absl:Compiled the loaded model, but the compiled metrics have yet to be built. `model.compile_metrics` will be empty until you train or evaluate the model.\n"
     ]
    },
    {
     "name": "stdout",
     "output_type": "stream",
     "text": [
      "\u001b[1m1/1\u001b[0m \u001b[32m━━━━━━━━━━━━━━━━━━━━\u001b[0m\u001b[37m\u001b[0m \u001b[1m0s\u001b[0m 128ms/step\n",
      "Predicted class: ana\n"
     ]
    }
   ],
   "source": [
    "model = load_model('handwritten_character_model.h5')\n",
    "\n",
    "# Function to preprocess a single image\n",
    "def preprocess_image(image_path):\n",
    "    image = Image.open(image_path).convert('L')  # Convert to grayscale\n",
    "    image = image.resize((50, 50))  # Resize image to 50x50 pixels\n",
    "    image = np.array(image) / 255.0  # Normalize pixel values\n",
    "    image = np.expand_dims(image, axis=-1)  # Add channel dimension\n",
    "    return image\n",
    "\n",
    "# Path to the individual image you want to predict\n",
    "image_path = 'images/test/ana/17.jpg'\n",
    "\n",
    "# Preprocess the image\n",
    "image = preprocess_image(image_path)\n",
    "\n",
    "# Make predictions\n",
    "predictions = model.predict(np.array([image]))\n",
    "predicted_label = np.argmax(predictions)\n",
    "\n",
    "# Map predicted label to folder name\n",
    "data_dir = 'dataset'  # Path to your dataset folder\n",
    "folder_names = os.listdir(data_dir)\n",
    "predicted_class = folder_names[predicted_label]\n",
    "\n",
    "print(\"Predicted class:\", predicted_class)"
   ]
  }
 ],
 "metadata": {
  "kernelspec": {
   "display_name": "base",
   "language": "python",
   "name": "python3"
  },
  "language_info": {
   "codemirror_mode": {
    "name": "ipython",
    "version": 3
   },
   "file_extension": ".py",
   "mimetype": "text/x-python",
   "name": "python",
   "nbconvert_exporter": "python",
   "pygments_lexer": "ipython3",
   "version": "3.11.7"
  }
 },
 "nbformat": 4,
 "nbformat_minor": 2
}
